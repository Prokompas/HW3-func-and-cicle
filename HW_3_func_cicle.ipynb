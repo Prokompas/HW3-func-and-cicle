{
 "cells": [
  {
   "cell_type": "markdown",
   "id": "5845556b",
   "metadata": {},
   "source": [
    "### 1. Цикл по диагонали списка\n",
    "Дан список, напишите функцию, которая возвращает сумму элементов на диагонали."
   ]
  },
  {
   "cell_type": "code",
   "execution_count": 11,
   "id": "cf735f86",
   "metadata": {},
   "outputs": [],
   "source": [
    "data = [\n",
    "[13, 25, 23, 34],\n",
    "[45, 32, 44, 47],\n",
    "[12, 33, 23, 95],\n",
    "[13, 53, 34, 35],\n",
    "]"
   ]
  },
  {
   "cell_type": "code",
   "execution_count": 12,
   "id": "b7ab5c74",
   "metadata": {},
   "outputs": [],
   "source": [
    "def sum_elements_diagonal(data_list):\n",
    "    \"\"\"\n",
    "    Возвращает сумму элементов списка по диагонали\n",
    "    \"\"\"\n",
    "    j = 0\n",
    "    diagonal_sum = 0\n",
    "    for element in data_list:\n",
    "        diagonal_sum += int(element[j])\n",
    "        j += 1\n",
    "    return diagonal_sum"
   ]
  },
  {
   "cell_type": "code",
   "execution_count": 13,
   "id": "bb8a0e4a",
   "metadata": {},
   "outputs": [
    {
     "data": {
      "text/plain": [
       "103"
      ]
     },
     "execution_count": 13,
     "metadata": {},
     "output_type": "execute_result"
    }
   ],
   "source": [
    "sum_elements_diagonal(data)"
   ]
  },
  {
   "cell_type": "markdown",
   "id": "45ba5075",
   "metadata": {},
   "source": [
    "### 2. Список с буквами и цифрами\n",
    "Дан список чисел, часть из которых имеют строковый тип или содержат буквы. Напишите функцию, которая возвращает сумму квадратов элементов, которые могут быть числами."
   ]
  },
  {
   "cell_type": "code",
   "execution_count": 14,
   "id": "6d412db2",
   "metadata": {},
   "outputs": [],
   "source": [
    "data = [1, 'С5Т', 'СabcТ', 20, 'С2Т']"
   ]
  },
  {
   "cell_type": "code",
   "execution_count": 15,
   "id": "bedaa5cd",
   "metadata": {},
   "outputs": [],
   "source": [
    "def sum_square_num(data_list):\n",
    "    \"\"\"\n",
    "    Возвращает сумму квадратов элементов списка, которые могут быть числами\n",
    "    \"\"\"\n",
    "    sum_square = 0\n",
    "    for element in data_list:\n",
    "        if type(element) != str:\n",
    "            sum_square += element ** 2\n",
    "    return sum_square"
   ]
  },
  {
   "cell_type": "code",
   "execution_count": 16,
   "id": "450141d9",
   "metadata": {},
   "outputs": [
    {
     "data": {
      "text/plain": [
       "401"
      ]
     },
     "execution_count": 16,
     "metadata": {},
     "output_type": "execute_result"
    }
   ],
   "source": [
    "sum_square_num(data)"
   ]
  },
  {
   "cell_type": "markdown",
   "id": "68fd07f3",
   "metadata": {},
   "source": [
    "### 3. Максимальное значение валюты\n",
    "Напишите функцию, которая возвращает название валюты (поле СNameТ) с максимальным значением курса с помощью сервиса https://www.cbr-xml-daily.ru/daily_json.js"
   ]
  },
  {
   "cell_type": "code",
   "execution_count": 40,
   "id": "4c0d733a",
   "metadata": {},
   "outputs": [],
   "source": [
    "import requests\n",
    "    "
   ]
  },
  {
   "cell_type": "code",
   "execution_count": 41,
   "id": "abc225b3",
   "metadata": {},
   "outputs": [],
   "source": [
    "def max_valute_value(value_dict):\n",
    "    \"\"\"\n",
    "    Возвращает название валюты (поле Name) с максимальным значением курса\n",
    "    \"\"\"\n",
    "    r = requests.get('https://www.cbr-xml-daily.ru/daily_json.js')\n",
    "    valute_dict = r.json()['Valute']\n",
    "    max_value = 0\n",
    "    for key, value in valute_dict.items():\n",
    "        if value['Value'] > max_value:\n",
    "            max_value = value['Value']\n",
    "            name = value['Name']\n",
    "    return name"
   ]
  },
  {
   "cell_type": "code",
   "execution_count": 42,
   "id": "eaef2ca5",
   "metadata": {},
   "outputs": [
    {
     "data": {
      "text/plain": [
       "'Китайских юаней'"
      ]
     },
     "execution_count": 42,
     "metadata": {},
     "output_type": "execute_result"
    }
   ],
   "source": [
    "max_valute_value(valute_dict)"
   ]
  },
  {
   "cell_type": "markdown",
   "id": "166a0b41",
   "metadata": {},
   "source": [
    "### 4. Задание с классом\n",
    "1. Добавьте в класс еще один формат, который возвращает название валюты (например, 'Евро').\n",
    "\n",
    "2. Добавьте в класс параметр diff (со значениями True или False), который в случае значения True в методах eur и usd будет возвращать не курс валюты, а изменение по сравнению в прошлым значением."
   ]
  },
  {
   "cell_type": "code",
   "execution_count": 43,
   "id": "44fd3c4d",
   "metadata": {},
   "outputs": [],
   "source": [
    "import requests\n",
    "\n",
    "class Rate:\n",
    "    def __init__(self, format='value', diff = False):\n",
    "        self.format = format\n",
    "        self.diff = diff\n",
    "    \n",
    "    def exchange_rates(self):\n",
    "        \"\"\"\n",
    "        Возвращает ответ сервиса с информацией о валютах в виде:\n",
    "        \n",
    "        {\n",
    "            'AMD': {\n",
    "                'CharCode': 'AMD',\n",
    "                'ID': 'R01060',\n",
    "                'Name': 'Армянских драмов',\n",
    "                'Nominal': 100,\n",
    "                'NumCode': '051',\n",
    "                'Previous': 14.103,\n",
    "                'Value': 14.0879\n",
    "                },\n",
    "            ...\n",
    "        }\n",
    "        \"\"\"\n",
    "        r = requests.get('https://www.cbr-xml-daily.ru/daily_json.js')\n",
    "        return r.json()['Valute']\n",
    "    \n",
    "    def make_format(self, currency):\n",
    "        \"\"\"\n",
    "        Возвращает информацию о валюте currency в двух вариантах:\n",
    "        - полная информация о валюте при self.format = 'full':\n",
    "        Rate('full').make_format('EUR')\n",
    "        {\n",
    "            'CharCode': 'EUR',\n",
    "            'ID': 'R01239',\n",
    "            'Name': 'Евро',\n",
    "            'Nominal': 1,\n",
    "            'NumCode': '978',\n",
    "            'Previous': 79.6765,\n",
    "            'Value': 79.4966\n",
    "        }\n",
    "        \n",
    "        Rate('value').make_format('EUR')\n",
    "        79.4966\n",
    "        \"\"\"\n",
    "        response = self.exchange_rates()\n",
    "        \n",
    "        if currency in response:\n",
    "            if self.format == 'full':\n",
    "                return response[currency]\n",
    "            \n",
    "            if self.format == 'value':\n",
    "                return response[currency]['Value']\n",
    "            \n",
    "            if self.format == 'name':\n",
    "                return response[currency]['Name']\n",
    "        \n",
    "        return 'Error'\n",
    "    \n",
    "    def eur(self):\n",
    "        \"\"\"\n",
    "        Если diff = False (по умолчанию), возвращает курс евро на сегодня в формате self.format\n",
    "        Если diff = true, возвращает изменение по сравнению в прошлым значением\n",
    "        \"\"\"\n",
    "        if self.diff:\n",
    "            return self.curr_diff('EUR')\n",
    "        else:\n",
    "            return self.make_format('EUR')\n",
    "        \n",
    "    \n",
    "    def usd(self):\n",
    "        \"\"\"\n",
    "        Если diff = False (по умолчанию), возвращает курс доллара на сегодня в формате self.format\n",
    "        Если diff = true, возвращает изменение по сравнению в прошлым значением\n",
    "        \"\"\"\n",
    "        if self.diff:\n",
    "            return self.curr_diff('USD')\n",
    "        else:\n",
    "            return self.make_format('USD')\n",
    "    \n",
    "    \n",
    "    \n",
    "    \n",
    "    def curr_diff(self, currency):\n",
    "        \"\"\"Возвращает изменение курса валюты по сравнению в прошлым значением\"\"\"\n",
    "        response = self.exchange_rates()\n",
    "        if currency in response:\n",
    "            return(response[currency]['Previous'] - response[currency]['Value'])\n",
    "         "
   ]
  },
  {
   "cell_type": "code",
   "execution_count": 44,
   "id": "7b1fe90c",
   "metadata": {},
   "outputs": [],
   "source": [
    "money = Rate()"
   ]
  },
  {
   "cell_type": "code",
   "execution_count": 48,
   "id": "22054de0",
   "metadata": {},
   "outputs": [],
   "source": [
    "money.format = 'name'"
   ]
  },
  {
   "cell_type": "code",
   "execution_count": 49,
   "id": "1a049e7e",
   "metadata": {},
   "outputs": [
    {
     "data": {
      "text/plain": [
       "'Доллар США'"
      ]
     },
     "execution_count": 49,
     "metadata": {},
     "output_type": "execute_result"
    }
   ],
   "source": [
    "money.usd()"
   ]
  },
  {
   "cell_type": "code",
   "execution_count": 50,
   "id": "78331b16",
   "metadata": {},
   "outputs": [],
   "source": [
    "money.diff = True"
   ]
  },
  {
   "cell_type": "code",
   "execution_count": 51,
   "id": "6d0fb915",
   "metadata": {},
   "outputs": [
    {
     "data": {
      "text/plain": [
       "-0.14099999999999824"
      ]
     },
     "execution_count": 51,
     "metadata": {},
     "output_type": "execute_result"
    }
   ],
   "source": [
    "money.eur()"
   ]
  },
  {
   "cell_type": "markdown",
   "id": "91e54a68",
   "metadata": {},
   "source": [
    "### 5. Фибоначчи\n",
    "Напишите функцию, возвращающую сумму первых n чисел Фибоначчи"
   ]
  },
  {
   "cell_type": "code",
   "execution_count": 67,
   "id": "2ac01d7c",
   "metadata": {},
   "outputs": [],
   "source": [
    "def fibonachi_sum(num):\n",
    "    \"\"\"\n",
    "    Возвращает сумму первых n чисел Фибоначчи\n",
    "    \"\"\"\n",
    "    num = num - 2\n",
    "    fib1 = fib2 = 1\n",
    "    fib_sum = fib1 + fib2\n",
    "    while num > 0:\n",
    "        fib_sum += fib1 + fib2\n",
    "        fib1, fib2 = fib2, fib1 + fib2    \n",
    "        num -= 1\n",
    "    return fib_sum\n",
    "    "
   ]
  },
  {
   "cell_type": "code",
   "execution_count": 68,
   "id": "f9f7df53",
   "metadata": {},
   "outputs": [
    {
     "name": "stdout",
     "output_type": "stream",
     "text": [
      "Введите целое число для вычисления ряда Фибоначчи: 10\n"
     ]
    },
    {
     "data": {
      "text/plain": [
       "143"
      ]
     },
     "execution_count": 68,
     "metadata": {},
     "output_type": "execute_result"
    }
   ],
   "source": [
    "n = int(input('Введите целое число для вычисления ряда Фибоначчи: '))\n",
    "\n",
    "fibonachi_sum(n)"
   ]
  },
  {
   "cell_type": "markdown",
   "id": "d59c3d0c",
   "metadata": {},
   "source": [
    "### 6.Список в словарь\n",
    "Напишите функцию, преобразующую произвольный список вида [С2018-01-01Т, СyandexТ, СcpcТ, 100] в словарь {С2018-01-01Т: {СyandexТ: {СcpcТ: 100}}}"
   ]
  },
  {
   "cell_type": "code",
   "execution_count": 133,
   "id": "514820f6",
   "metadata": {},
   "outputs": [],
   "source": [
    "data = ['С2018-01-01Т', 'СyandexТ', 'СcpcТ', 100]"
   ]
  },
  {
   "cell_type": "code",
   "execution_count": 134,
   "id": "c36e71c6",
   "metadata": {},
   "outputs": [],
   "source": [
    "def list_to_dict(data_list):\n",
    "    \"\"\"\n",
    "    Возвращает вложенный словарь из элементов списка, глубина вложенности на единицу меньше длины списка\n",
    "    \"\"\"\n",
    "    n = len(data_list) - 1\n",
    "    value = {data_list[n-1]: data_list[n]}\n",
    "    for i in range(n-1,-1,-1):\n",
    "        data_dict = {}\n",
    "        key = data_list[i-1]\n",
    "        data_dict.setdefault(key,value)\n",
    "        value = copy.deepcopy(data_dict)\n",
    "        if i == 1:\n",
    "            break\n",
    "    return data_dict"
   ]
  },
  {
   "cell_type": "code",
   "execution_count": 135,
   "id": "154a78db",
   "metadata": {},
   "outputs": [
    {
     "data": {
      "text/plain": [
       "{'С2018-01-01Т': {'СyandexТ': {'СcpcТ': 100}}}"
      ]
     },
     "execution_count": 135,
     "metadata": {},
     "output_type": "execute_result"
    }
   ],
   "source": [
    "list_to_dict(data)"
   ]
  },
  {
   "cell_type": "code",
   "execution_count": null,
   "id": "906167cc",
   "metadata": {},
   "outputs": [],
   "source": []
  }
 ],
 "metadata": {
  "kernelspec": {
   "display_name": "Python 3 (ipykernel)",
   "language": "python",
   "name": "python3"
  },
  "language_info": {
   "codemirror_mode": {
    "name": "ipython",
    "version": 3
   },
   "file_extension": ".py",
   "mimetype": "text/x-python",
   "name": "python",
   "nbconvert_exporter": "python",
   "pygments_lexer": "ipython3",
   "version": "3.9.12"
  }
 },
 "nbformat": 4,
 "nbformat_minor": 5
}
